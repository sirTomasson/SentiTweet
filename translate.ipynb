{
 "cells": [
  {
   "cell_type": "code",
   "execution_count": 1,
   "id": "2b6d5f0c",
   "metadata": {},
   "outputs": [
    {
     "data": {
      "text/plain": [
       "array([[ 0,  1,  2,  3,  4],\n",
       "       [ 5,  6,  7,  8,  9],\n",
       "       [10, 11, 12, 13, 14]])"
      ]
     },
     "execution_count": 1,
     "metadata": {},
     "output_type": "execute_result"
    }
   ],
   "source": [
    "import numpy as np\n",
    "\n",
    "a = np.arange(15).reshape(3, 5)\n",
    "a"
   ]
  },
  {
   "cell_type": "code",
   "execution_count": 2,
   "id": "ac66cdd4",
   "metadata": {},
   "outputs": [
    {
     "name": "stdout",
     "output_type": "stream",
     "text": [
      "hello world\n"
     ]
    }
   ],
   "source": [
    "print(\"hello world\")"
   ]
  },
  {
   "cell_type": "code",
   "execution_count": 18,
   "id": "803b31a5",
   "metadata": {},
   "outputs": [],
   "source": [
    "from deep_translator import GoogleTranslator\n"
   ]
  },
  {
   "cell_type": "code",
   "execution_count": 39,
   "id": "16c98d45",
   "metadata": {},
   "outputs": [
    {
     "data": {
      "text/plain": [
       "'was niet'"
      ]
     },
     "execution_count": 39,
     "metadata": {},
     "output_type": "execute_result"
    }
   ],
   "source": [
    "trsl_en_nl = GoogleTranslator(source='en', target='nl')\n",
    "\n",
    "horrible = 'horrible'\n",
    "\n",
    "\n",
    "horrible_nl = trsl_en_nl.translate(horrible)\n",
    "horrible_nl\n",
    "\n",
    "wasnt = \"wasn't\"\n",
    "wasnt_nl = trsl_en_nl.translate(wasnt)\n",
    "wasnt_nl"
   ]
  },
  {
   "cell_type": "code",
   "execution_count": 25,
   "id": "68bfceff",
   "metadata": {},
   "outputs": [
    {
     "name": "stdout",
     "output_type": "stream",
     "text": [
      "I had a really awful day. It was the worst day ever! But every now and then I have a good day that makes me happy.\n"
     ]
    }
   ],
   "source": [
    "txt = 'Ik had een echt vreselijke dag. Het was de verschikkelijkste dag ooit! Maar zo nu en dan heb ik een goede dag die mij blij maakt.'\n",
    "\n",
    "trsl_txt = GoogleTranslator(source='auto', target='en').translate(txt)\n",
    "    \n",
    "print(trsl_txt)"
   ]
  },
  {
   "cell_type": "code",
   "execution_count": 58,
   "id": "8113a555",
   "metadata": {},
   "outputs": [
    {
     "name": "stdout",
     "output_type": "stream",
     "text": [
      "Polarity -0.125\n",
      "Subjectivity 0.9\n",
      "Assesment [(['really', 'awful'], -1.0, 1.0, None), (['worst', '!'], -1.0, 1.0, None), (['good'], 0.7, 0.6000000000000001, None), (['happy'], 0.8, 1.0, None)]\n"
     ]
    }
   ],
   "source": [
    "import spacy\n",
    "from spacytextblob.spacytextblob import SpacyTextBlob\n",
    "\n",
    "nlp = spacy.load('en_core_web_sm')\n",
    "nlp.add_pipe('spacytextblob')\n",
    "\n",
    "doc = nlp(trsl_txt)\n",
    "\n",
    "print(\"Polarity {0}\\nSubjectivity {1}\\nAssesment {2}\".format(doc._.polarity, doc._.subjectivity, doc._.assessments))"
   ]
  },
  {
   "cell_type": "code",
   "execution_count": 59,
   "id": "98aa73e9",
   "metadata": {},
   "outputs": [
    {
     "name": "stdout",
     "output_type": "stream",
     "text": [
      "Polarity 0.5\n",
      "Subjectivity 1.0\n",
      "Assesment [(['not', 'awful'], 0.5, 1.0, None)]\n"
     ]
    }
   ],
   "source": [
    "negate_txt = \"My day was not awful.\"\n",
    "\n",
    "doc = nlp(negate_txt)\n",
    "\n",
    "print(\"Polarity {0}\\nSubjectivity {1}\\nAssesment {2}\".format(doc._.polarity, doc._.subjectivity, doc._.assessments))\n",
    "\n"
   ]
  },
  {
   "cell_type": "code",
   "execution_count": 76,
   "id": "24a7d1ef",
   "metadata": {},
   "outputs": [
    {
     "name": "stdout",
     "output_type": "stream",
     "text": [
      "Token Harry; POS PROPN\n",
      "Token Potter; POS PROPN\n",
      "Token was; POS AUX\n",
      "Token a; POS DET\n",
      "Token scary; POS ADJ\n",
      "Token movie; POS NOUN\n",
      "Harry Potter was a scary movie\n",
      "scary\n"
     ]
    },
    {
     "data": {
      "text/plain": [
       "-0.5"
      ]
     },
     "execution_count": 76,
     "metadata": {},
     "output_type": "execute_result"
    }
   ],
   "source": [
    "sentence = 'Harry Potter was a scary movie'\n",
    "\n",
    "doc = nlp(sentence)\n",
    "\n",
    "descriptive_term = ''\n",
    "\n",
    "for token in doc:\n",
    "    print(\"Token {0}; POS {1}\".format(token, token.pos_))\n",
    "    if token.pos_ == 'ADJ':\n",
    "        descriptive_term = token\n",
    "print(sentence)\n",
    "print(descriptive_term)\n",
    "\n",
    "doc._.polarity"
   ]
  },
  {
   "cell_type": "code",
   "execution_count": 77,
   "id": "c22752c6",
   "metadata": {},
   "outputs": [
    {
     "data": {
      "text/plain": [
       "Sentiment(polarity=-0.5, subjectivity=1.0)"
      ]
     },
     "execution_count": 77,
     "metadata": {},
     "output_type": "execute_result"
    }
   ],
   "source": [
    "# example using TextBlob for sentiment analysis.\n",
    "from textblob import TextBlob\n",
    "\n",
    "blob = TextBlob(sentence)\n",
    "\n",
    "blob.sentiment"
   ]
  },
  {
   "cell_type": "code",
   "execution_count": 102,
   "id": "92150674",
   "metadata": {},
   "outputs": [
    {
     "data": {
      "text/plain": [
       "TextBlob(\"I has bat grammar!\")"
      ]
     },
     "execution_count": 102,
     "metadata": {},
     "output_type": "execute_result"
    }
   ],
   "source": [
    "sentence = 'I has bat grammmer!'\n",
    "\n",
    "blob = TextBlob(sentence)\n",
    "\n",
    "blob.correct()"
   ]
  },
  {
   "cell_type": "code",
   "execution_count": 141,
   "id": "f00d7c80",
   "metadata": {},
   "outputs": [
    {
     "name": "stdout",
     "output_type": "stream",
     "text": [
      "[{'created_at': '2021-01-01T00:00:06.000Z', 'source': 'Twitter for Android', 'id': '1344795499367440385', 'context_annotations': [{'domain': {'id': '123', 'name': 'Ongoing News Story', 'description': \"Ongoing News Stories like 'Brexit'\"}, 'entity': {'id': '1220701888179359745', 'name': 'COVID-19'}}], 'entities': {'urls': [{'start': 15, 'end': 38, 'url': 'https://t.co/IhH4kAy6DE', 'expanded_url': 'https://twitter.com/drsimonegold/status/1344757325056208896', 'display_url': 'twitter.com/drsimonegold/s…'}]}, 'referenced_tweets': [{'type': 'quoted', 'id': '1344757325056208896'}], 'text': 'Imagine that.. https://t.co/IhH4kAy6DE', 'lang': 'en', 'public_metrics': {'retweet_count': 0, 'reply_count': 0, 'like_count': 0, 'quote_count': 0}, 'possibly_sensitive': False, 'author_id': '2362767015', 'reply_settings': 'everyone', 'conversation_id': '1344795499367440385'}, {'created_at': '2021-01-01T00:00:06.000Z', 'source': 'Twitter for iPad', 'id': '1344795499388428290', 'context_annotations': [{'domain': {'id': '123', 'name': 'Ongoing News Story', 'description': \"Ongoing News Stories like 'Brexit'\"}, 'entity': {'id': '1220701888179359745', 'name': 'COVID-19'}}], 'entities': {'urls': [{'start': 148, 'end': 171, 'url': 'https://t.co/wMPo1G1bcZ', 'expanded_url': 'https://twitter.com/LibQn32/status/1344760425515257856', 'display_url': 'twitter.com/LibQn32/status…'}], 'annotations': [{'start': 4, 'end': 9, 'probability': 0.9829, 'type': 'Person', 'normalized_text': 'Bernie'}, {'start': 105, 'end': 109, 'probability': 0.9853, 'type': 'Person', 'normalized_text': 'Mitch'}, {'start': 131, 'end': 136, 'probability': 0.9693, 'type': 'Person', 'normalized_text': 'Bernie'}]}, 'referenced_tweets': [{'type': 'quoted', 'id': '1344760425515257856'}], 'text': '“If Bernie hadn’t tried to DESTROY the senate by threatening a filibuster she wouldn’t have to side with Mitch. People starving is Bernie’s fault!” https://t.co/wMPo1G1bcZ', 'lang': 'en', 'public_metrics': {'retweet_count': 0, 'reply_count': 2, 'like_count': 2, 'quote_count': 0}, 'possibly_sensitive': False, 'author_id': '1219905845330354176', 'reply_settings': 'everyone', 'conversation_id': '1344795499388428290'}, {'created_at': '2021-01-01T00:00:06.000Z', 'entities': {'hashtags': [{'start': 78, 'end': 84, 'tag': 'heart'}], 'urls': [{'start': 85, 'end': 108, 'url': 'https://t.co/OFadnsJe0v', 'expanded_url': 'http://www.medicinenet.com/script/main/art.asp?articlekey=250356', 'display_url': 'medicinenet.com/script/main/ar…'}], 'annotations': [{'start': 0, 'end': 2, 'probability': 0.8717, 'type': 'Organization', 'normalized_text': 'NBA'}]}, 'source': 'easybodyfit', 'id': '1344795499518447616', 'context_annotations': [{'domain': {'id': '3', 'name': 'TV Shows', 'description': 'Television shows from around the world'}, 'entity': {'id': '10000607734', 'name': 'NBA Basketball', 'description': 'All the latest basketball action from the NBA.'}}, {'domain': {'id': '3', 'name': 'TV Shows', 'description': 'Television shows from around the world'}, 'entity': {'id': '10029190505', 'name': 'Live: NBA Basketball', 'description': 'Live coverage from the National Basketball Association, the top basketball league in North America.'}}, {'domain': {'id': '3', 'name': 'TV Shows', 'description': 'Television shows from around the world'}, 'entity': {'id': '10029304530', 'name': 'NBA Basketball'}}, {'domain': {'id': '11', 'name': 'Sport', 'description': 'Types of sports, like soccer and basketball'}, 'entity': {'id': '706083902411055104', 'name': 'Basketball'}}, {'domain': {'id': '26', 'name': 'Sports League', 'description': ''}, 'entity': {'id': '706083889454813185', 'name': 'NBA'}}, {'domain': {'id': '123', 'name': 'Ongoing News Story', 'description': \"Ongoing News Stories like 'Brexit'\"}, 'entity': {'id': '1220701888179359745', 'name': 'COVID-19'}}, {'domain': {'id': '45', 'name': 'Brand Vertical', 'description': 'Top level entities that describe a Brands industry'}, 'entity': {'id': '781974597310615553', 'name': 'Entertainment'}}, {'domain': {'id': '46', 'name': 'Brand Category', 'description': 'Categories within Brand Verticals that narrow down the scope of Brands'}, 'entity': {'id': '781974597491040257', 'name': 'Sports'}}, {'domain': {'id': '47', 'name': 'Brand', 'description': 'Brands and Companies'}, 'entity': {'id': '10042758024', 'name': 'NBA'}}], 'text': 'NBA&amp;#039;s COVID &amp;#039;Bubble&amp;#039; Reveals Home Court Advantage  #heart https://t.co/OFadnsJe0v', 'lang': 'en', 'public_metrics': {'retweet_count': 0, 'reply_count': 0, 'like_count': 0, 'quote_count': 0}, 'possibly_sensitive': False, 'author_id': '1903413444', 'reply_settings': 'everyone', 'conversation_id': '1344795499518447616'}, {'created_at': '2021-01-01T00:00:06.000Z', 'source': 'Twitter for iPhone', 'id': '1344795499833020418', 'in_reply_to_user_id': '1051533984', 'context_annotations': [{'domain': {'id': '65', 'name': 'Interests and Hobbies Vertical', 'description': 'Top level interests and hobbies groupings, like Food or Travel'}, 'entity': {'id': '903303816698671104', 'name': 'Wellness and health', 'description': 'Wellness & Health'}}, {'domain': {'id': '66', 'name': 'Interests and Hobbies Category', 'description': 'A grouping of interests and hobbies entities, like Novelty Food or Destinations'}, 'entity': {'id': '918538847302041600', 'name': 'Community Health', 'description': 'Community Health'}}, {'domain': {'id': '67', 'name': 'Interests and Hobbies', 'description': 'Interests, opinions, and behaviors of individuals, groups, or cultures; like Speciality Cooking or Theme Parks'}, 'entity': {'id': '920768310152593408', 'name': 'Common Medication', 'description': 'Common Medication'}}, {'domain': {'id': '123', 'name': 'Ongoing News Story', 'description': \"Ongoing News Stories like 'Brexit'\"}, 'entity': {'id': '1220701888179359745', 'name': 'COVID-19'}}, {'domain': {'id': '45', 'name': 'Brand Vertical', 'description': 'Top level entities that describe a Brands industry'}, 'entity': {'id': '781974596740190208', 'name': 'CPG'}}, {'domain': {'id': '46', 'name': 'Brand Category', 'description': 'Categories within Brand Verticals that narrow down the scope of Brands'}, 'entity': {'id': '781974596752773120', 'name': 'Pharma'}}, {'domain': {'id': '47', 'name': 'Brand', 'description': 'Brands and Companies'}, 'entity': {'id': '10032761422', 'name': 'Pfizer'}}], 'referenced_tweets': [{'type': 'replied_to', 'id': '1344794318645547008'}], 'text': '@MesdenTV Pfizer has been a bad reputation in recent decades. It’s just ironic to me how other vaccines take years of perfecting and this one was rushed out. Now there’s a new strain of covid that vaccine doesn’t touch. Nothing in life is a 100 percent. Even with it, you can still get sick', 'lang': 'en', 'public_metrics': {'retweet_count': 0, 'reply_count': 0, 'like_count': 1, 'quote_count': 0}, 'entities': {'mentions': [{'start': 0, 'end': 9, 'username': 'MesdenTV', 'id': '1051533984'}]}, 'possibly_sensitive': False, 'author_id': '179960548', 'reply_settings': 'everyone', 'conversation_id': '1344791218937614336'}, {'created_at': '2021-01-01T00:00:06.000Z', 'source': 'Twitter for Android', 'id': '1344795500130799616', 'context_annotations': [{'domain': {'id': '123', 'name': 'Ongoing News Story', 'description': \"Ongoing News Stories like 'Brexit'\"}, 'entity': {'id': '1220701888179359745', 'name': 'COVID-19'}}, {'domain': {'id': '65', 'name': 'Interests and Hobbies Vertical', 'description': 'Top level interests and hobbies groupings, like Food or Travel'}, 'entity': {'id': '839159814991167489', 'name': 'Travel', 'description': 'Travel'}}, {'domain': {'id': '66', 'name': 'Interests and Hobbies Category', 'description': 'A grouping of interests and hobbies entities, like Novelty Food or Destinations'}, 'entity': {'id': '839160129752686593', 'name': 'General Travel', 'description': 'General Travel'}}, {'domain': {'id': '67', 'name': 'Interests and Hobbies', 'description': 'Interests, opinions, and behaviors of individuals, groups, or cultures; like Speciality Cooking or Theme Parks'}, 'entity': {'id': '839161975712067584', 'name': 'Travel Actions', 'description': 'This entity includes all conversations about travel and vacation.'}}], 'referenced_tweets': [{'type': 'retweeted', 'id': '1344645290406670337'}], 'text': 'RT @mferracinii: covid espero que vc esteja fazendo as malas nesse exato momento', 'lang': 'pt', 'public_metrics': {'retweet_count': 32504, 'reply_count': 0, 'like_count': 0, 'quote_count': 0}, 'possibly_sensitive': False, 'author_id': '727297747162902528', 'reply_settings': 'everyone', 'conversation_id': '1344795500130799616'}, {'created_at': '2021-01-01T00:00:06.000Z', 'source': 'Twitter for Android', 'id': '1344795500139196417', 'context_annotations': [{'domain': {'id': '10', 'name': 'Person', 'description': 'Named people in the world like Nelson Mandela'}, 'entity': {'id': '1057115985256210433', 'name': 'Robert Reich', 'description': 'Robert Reich'}}, {'domain': {'id': '35', 'name': 'Politician', 'description': 'Politicians in the world, like Joe Biden'}, 'entity': {'id': '1057115985256210433', 'name': 'Robert Reich', 'description': 'Robert Reich'}}, {'domain': {'id': '123', 'name': 'Ongoing News Story', 'description': \"Ongoing News Stories like 'Brexit'\"}, 'entity': {'id': '1220701888179359745', 'name': 'COVID-19'}}], 'referenced_tweets': [{'type': 'retweeted', 'id': '1344684515462152192'}], 'text': 'RT @RBReich: 1 in every 1,000 Americans has died from Covid-19.\\n\\nMeanwhile, in South Korea, it’s 1 of every 65,000. \\n\\nOur government has fa…', 'lang': 'en', 'public_metrics': {'retweet_count': 13086, 'reply_count': 0, 'like_count': 0, 'quote_count': 0}, 'entities': {'annotations': [{'start': 30, 'end': 38, 'probability': 0.549, 'type': 'Person', 'normalized_text': 'Americans'}, {'start': 54, 'end': 58, 'probability': 0.3789, 'type': 'Place', 'normalized_text': 'Covid'}, {'start': 79, 'end': 89, 'probability': 0.9266, 'type': 'Place', 'normalized_text': 'South Korea'}], 'mentions': [{'start': 3, 'end': 11, 'username': 'RBReich', 'id': '148529707'}]}, 'possibly_sensitive': False, 'author_id': '806703925558648832', 'reply_settings': 'everyone', 'conversation_id': '1344795500139196417'}, {'created_at': '2021-01-01T00:00:06.000Z', 'source': '今日のコロナ感染者数', 'id': '1344795500147445760', 'context_annotations': [{'domain': {'id': '123', 'name': 'Ongoing News Story', 'description': \"Ongoing News Stories like 'Brexit'\"}, 'entity': {'id': '1220701888179359745', 'name': 'COVID-19'}}], 'entities': {'urls': [{'start': 12, 'end': 35, 'url': 'https://t.co/ijnP3ZLnsN', 'expanded_url': 'https://covid19.ziko-info.com/pref?class=dropdown-item&pref_id=13', 'display_url': 'covid19.ziko-info.com/pref?class=dro…'}], 'annotations': [{'start': 0, 'end': 6, 'probability': 0.3758, 'type': 'Place', 'normalized_text': '東京都 コロナ'}]}, 'text': '東京都 コロナ感染者数 https://t.co/ijnP3ZLnsN', 'lang': 'ja', 'public_metrics': {'retweet_count': 0, 'reply_count': 0, 'like_count': 0, 'quote_count': 0}, 'possibly_sensitive': False, 'author_id': '1215265180612882433', 'reply_settings': 'everyone', 'conversation_id': '1344795500147445760'}, {'created_at': '2021-01-01T00:00:06.000Z', 'source': 'Twitter for Android', 'id': '1344795500176941056', 'context_annotations': [{'domain': {'id': '123', 'name': 'Ongoing News Story', 'description': \"Ongoing News Stories like 'Brexit'\"}, 'entity': {'id': '1220701888179359745', 'name': 'COVID-19'}}], 'referenced_tweets': [{'type': 'retweeted', 'id': '1344651552758251521'}], 'text': 'RT @krupali: There is nothing like a global pandemic to show a persons true character. Nothing.', 'lang': 'en', 'public_metrics': {'retweet_count': 19, 'reply_count': 0, 'like_count': 0, 'quote_count': 0}, 'entities': {'mentions': [{'start': 3, 'end': 11, 'username': 'krupali', 'id': '10057582'}]}, 'possibly_sensitive': False, 'author_id': '34831910', 'reply_settings': 'everyone', 'conversation_id': '1344795500176941056'}, {'created_at': '2021-01-01T00:00:07.000Z', 'source': 'Twitter for iPhone', 'id': '1344795500319563776', 'referenced_tweets': [{'type': 'retweeted', 'id': '1344794963951972353'}], 'text': 'RT @girlsreallyrule: Rep. Jaime Raskin has confirmed that his 25-year old son Tommy Raskin has passed away. Here is Tommy, with his parents…', 'lang': 'en', 'public_metrics': {'retweet_count': 331, 'reply_count': 0, 'like_count': 0, 'quote_count': 0}, 'entities': {'annotations': [{'start': 21, 'end': 37, 'probability': 0.4894, 'type': 'Person', 'normalized_text': 'Rep. Jaime Raskin'}, {'start': 78, 'end': 89, 'probability': 0.9954, 'type': 'Person', 'normalized_text': 'Tommy Raskin'}, {'start': 116, 'end': 120, 'probability': 0.9848, 'type': 'Person', 'normalized_text': 'Tommy'}], 'mentions': [{'start': 3, 'end': 19, 'username': 'girlsreallyrule', 'id': '580312540'}]}, 'possibly_sensitive': False, 'author_id': '428800081', 'reply_settings': 'everyone', 'conversation_id': '1344795500319563776'}, {'created_at': '2021-01-01T00:00:07.000Z', 'source': 'Corona Virus Update Bot', 'id': '1344795500357193728', 'context_annotations': [{'domain': {'id': '123', 'name': 'Ongoing News Story', 'description': \"Ongoing News Stories like 'Brexit'\"}, 'entity': {'id': '1220701888179359745', 'name': 'COVID-19'}}], 'referenced_tweets': [{'type': 'retweeted', 'id': '1344795477494136833'}], 'text': 'RT @wfaa: Grim new record: At the start of the pandemic, it took six weeks for Tarrant County to reach more than 3,100 cases. On Thursday,…', 'lang': 'en', 'public_metrics': {'retweet_count': 8, 'reply_count': 0, 'like_count': 0, 'quote_count': 0}, 'entities': {'annotations': [{'start': 79, 'end': 92, 'probability': 0.8369, 'type': 'Place', 'normalized_text': 'Tarrant County'}], 'mentions': [{'start': 3, 'end': 8, 'username': 'wfaa', 'id': '15694286'}]}, 'possibly_sensitive': False, 'author_id': '1238467680773894146', 'reply_settings': 'everyone', 'conversation_id': '1344795500357193728'}, {'created_at': '2021-01-01T00:00:07.000Z', 'source': 'Twitter for Android', 'id': '1344795500462055425', 'context_annotations': [{'domain': {'id': '10', 'name': 'Person', 'description': 'Named people in the world like Nelson Mandela'}, 'entity': {'id': '940226280439480321', 'name': 'Nikki Haley', 'description': 'US Ambassador to the UN Nikki Haley'}}, {'domain': {'id': '35', 'name': 'Politician', 'description': 'Politicians in the world, like Joe Biden'}, 'entity': {'id': '940226280439480321', 'name': 'Nikki Haley', 'description': 'US Ambassador to the UN Nikki Haley'}}, {'domain': {'id': '123', 'name': 'Ongoing News Story', 'description': \"Ongoing News Stories like 'Brexit'\"}, 'entity': {'id': '1220701888179359745', 'name': 'COVID-19'}}], 'referenced_tweets': [{'type': 'retweeted', 'id': '1344681338302062594'}], 'text': 'RT @NikkiHaley: Going into 2021 we’re praying for an end to the pandemic and a return to the days when we could host the whole family, go t…', 'lang': 'en', 'public_metrics': {'retweet_count': 349, 'reply_count': 0, 'like_count': 0, 'quote_count': 0}, 'entities': {'mentions': [{'start': 3, 'end': 14, 'username': 'NikkiHaley', 'id': '1079776144524754944'}]}, 'possibly_sensitive': False, 'author_id': '963876669516808192', 'reply_settings': 'everyone', 'conversation_id': '1344795500462055425'}, {'created_at': '2021-01-01T00:00:07.000Z', 'source': 'Twitter for Android', 'id': '1344795500470534147', 'in_reply_to_user_id': '759785852788547584', 'context_annotations': [{'domain': {'id': '123', 'name': 'Ongoing News Story', 'description': \"Ongoing News Stories like 'Brexit'\"}, 'entity': {'id': '1220701888179359745', 'name': 'COVID-19'}}], 'referenced_tweets': [{'type': 'replied_to', 'id': '1344761527698554881'}], 'text': '@LordStigr @denverpost @GovofCO Sorry to hear that. Did you check to see if she was counted as a covid death?', 'lang': 'en', 'public_metrics': {'retweet_count': 0, 'reply_count': 0, 'like_count': 0, 'quote_count': 0}, 'entities': {'mentions': [{'start': 0, 'end': 10, 'username': 'LordStigr', 'id': '759785852788547584'}, {'start': 11, 'end': 22, 'username': 'denverpost', 'id': '8216772'}, {'start': 23, 'end': 31, 'username': 'GovofCO', 'id': '728344273620344832'}]}, 'possibly_sensitive': False, 'author_id': '1266941707553103872', 'reply_settings': 'everyone', 'conversation_id': '1344657880507682817'}, {'created_at': '2021-01-01T00:00:07.000Z', 'source': 'Corona virus awareness bot', 'id': '1344795500487315458', 'in_reply_to_user_id': '567289542', 'context_annotations': [{'domain': {'id': '46', 'name': 'Brand Category', 'description': 'Categories within Brand Verticals that narrow down the scope of Brands'}, 'entity': {'id': '781974596157181956', 'name': 'Online Site'}}, {'domain': {'id': '47', 'name': 'Brand', 'description': 'Brands and Companies'}, 'entity': {'id': '1130801906396221440', 'name': 'Saudi Gazette'}}], 'entities': {'urls': [{'start': 15, 'end': 38, 'url': 'https://t.co/KonXeicFMb', 'expanded_url': 'https://corona-scanner.com/country/saudi-arabia', 'display_url': 'corona-scanner.com/country/saudi-…', 'images': [{'url': 'https://pbs.twimg.com/news_img/1461590871674081280/s7pmwkWg?format=jpg&name=orig', 'width': 1200, 'height': 630}, {'url': 'https://pbs.twimg.com/news_img/1461590871674081280/s7pmwkWg?format=jpg&name=150x150', 'width': 150, 'height': 150}], 'status': 200, 'title': 'Saudi Arabia | 549.377 infections, 8.821 deaths, 2.093 are still infected and 538.463 recovered from the coronavirus (COVID-19) | Corona Scanner', 'description': 'Corona Scanner offers Saudi Arabia coronavirus (COVID-19) statistics like confirmed infections, death toll, current patients and recovered patients in realtime.', 'unwound_url': 'https://corona-scanner.com/country/saudi-arabia'}], 'mentions': [{'start': 0, 'end': 14, 'username': 'Saudi_Gazette', 'id': '567289542'}]}, 'referenced_tweets': [{'type': 'replied_to', 'id': '1344795478110728194'}], 'text': '@Saudi_Gazette https://t.co/KonXeicFMb', 'lang': 'und', 'public_metrics': {'retweet_count': 0, 'reply_count': 0, 'like_count': 0, 'quote_count': 0}, 'possibly_sensitive': False, 'author_id': '1235265381901750274', 'reply_settings': 'everyone', 'conversation_id': '1344795478110728194'}, {'created_at': '2021-01-01T00:00:07.000Z', 'source': 'Twitter Web App', 'id': '1344795500587982849', 'in_reply_to_user_id': '706300032631250944', 'context_annotations': [{'domain': {'id': '123', 'name': 'Ongoing News Story', 'description': \"Ongoing News Stories like 'Brexit'\"}, 'entity': {'id': '1220701888179359745', 'name': 'COVID-19'}}], 'referenced_tweets': [{'type': 'replied_to', 'id': '1344795055836508160'}], 'text': \"@NorthmanTrader God knows my wife nor kids want to discuss the Fed, the Gov, economics, or Covid...we digital folks are one another's support group.\", 'lang': 'en', 'public_metrics': {'retweet_count': 0, 'reply_count': 0, 'like_count': 4, 'quote_count': 0}, 'entities': {'annotations': [{'start': 16, 'end': 18, 'probability': 0.914, 'type': 'Other', 'normalized_text': 'God'}, {'start': 91, 'end': 95, 'probability': 0.2849, 'type': 'Organization', 'normalized_text': 'Covid'}], 'mentions': [{'start': 0, 'end': 15, 'username': 'NorthmanTrader', 'id': '714051110'}]}, 'possibly_sensitive': False, 'author_id': '706300032631250944', 'reply_settings': 'everyone', 'conversation_id': '1344793930940997632'}, {'created_at': '2021-01-01T00:00:07.000Z', 'source': 'Corona Virus Update Bot', 'id': '1344795500642385920', 'context_annotations': [{'domain': {'id': '47', 'name': 'Brand', 'description': 'Brands and Companies'}, 'entity': {'id': '1106573705549737984', 'name': 'NEWS18', 'description': 'NEWS18'}}], 'referenced_tweets': [{'type': 'retweeted', 'id': '1344795477770866688'}], 'text': \"RT @CNNnews18: 'Contagion', which depicts the outbreak of a deadly and fast-spreading viral disease, received renewed popularity this year…\", 'lang': 'en', 'public_metrics': {'retweet_count': 1, 'reply_count': 0, 'like_count': 0, 'quote_count': 0}, 'entities': {'mentions': [{'start': 3, 'end': 13, 'username': 'CNNnews18', 'id': '6509832'}]}, 'possibly_sensitive': False, 'author_id': '1238467680773894146', 'reply_settings': 'everyone', 'conversation_id': '1344795500642385920'}, {'created_at': '2021-01-01T00:00:07.000Z', 'source': 'Twitter for iPhone', 'id': '1344795500684468225', 'context_annotations': [{'domain': {'id': '123', 'name': 'Ongoing News Story', 'description': \"Ongoing News Stories like 'Brexit'\"}, 'entity': {'id': '1220701888179359745', 'name': 'COVID-19'}}], 'text': 'Yay Covid has gone!!!!!!', 'lang': 'en', 'public_metrics': {'retweet_count': 0, 'reply_count': 0, 'like_count': 2, 'quote_count': 0}, 'entities': {'annotations': [{'start': 4, 'end': 8, 'probability': 0.4762, 'type': 'Person', 'normalized_text': 'Covid'}]}, 'possibly_sensitive': False, 'author_id': '892844445514772480', 'reply_settings': 'everyone', 'conversation_id': '1344795500684468225'}, {'created_at': '2021-01-01T00:00:07.000Z', 'source': 'Twitter for Android', 'id': '1344795500709609472', 'in_reply_to_user_id': '1272260401015721987', 'context_annotations': [{'domain': {'id': '123', 'name': 'Ongoing News Story', 'description': \"Ongoing News Stories like 'Brexit'\"}, 'entity': {'id': '1220701888179359745', 'name': 'COVID-19'}}], 'referenced_tweets': [{'type': 'replied_to', 'id': '1344795499002527744'}], 'text': \"So January/February were very uneventful, not a lot happened from what I can remember off the top of my head which I can only imagine isn't a bad thing ;;;;\\n\\nMarch was when Covid came to the UK and my first con of the year got cancelled which was upsetting but I completely get -\", 'lang': 'en', 'public_metrics': {'retweet_count': 0, 'reply_count': 1, 'like_count': 0, 'quote_count': 0}, 'entities': {'annotations': [{'start': 173, 'end': 177, 'probability': 0.5563, 'type': 'Person', 'normalized_text': 'Covid'}, {'start': 191, 'end': 192, 'probability': 0.9451, 'type': 'Place', 'normalized_text': 'UK'}]}, 'possibly_sensitive': False, 'author_id': '1272260401015721987', 'reply_settings': 'everyone', 'conversation_id': '1344795496100093952'}, {'created_at': '2021-01-01T00:00:07.000Z', 'source': 'Twitter for iPhone', 'id': '1344795500709629953', 'context_annotations': [{'domain': {'id': '10', 'name': 'Person', 'description': 'Named people in the world like Nelson Mandela'}, 'entity': {'id': '1070725228790112256', 'name': 'Travon Free', 'description': 'American comedian, actor, writer and former college basketball player'}}, {'domain': {'id': '56', 'name': 'Actor', 'description': 'An actor or actress in the world, like Kate Winslet or Leonardo DiCaprio'}, 'entity': {'id': '1070725228790112256', 'name': 'Travon Free', 'description': 'American comedian, actor, writer and former college basketball player'}}], 'referenced_tweets': [{'type': 'retweeted', 'id': '1344785698897858562'}], 'text': 'RT @Travon: The moral arc of the universe is long but it only bends towards justice if we keep fucking bending it. Never be neutral about i…', 'lang': 'en', 'public_metrics': {'retweet_count': 21, 'reply_count': 0, 'like_count': 0, 'quote_count': 0}, 'entities': {'mentions': [{'start': 3, 'end': 10, 'username': 'Travon', 'id': '27792033'}]}, 'possibly_sensitive': False, 'author_id': '28747856', 'reply_settings': 'everyone', 'conversation_id': '1344795500709629953'}, {'created_at': '2021-01-01T00:00:07.000Z', 'source': 'Nrt_status_bot', 'id': '1344795500751577089', 'context_annotations': [{'domain': {'id': '66', 'name': 'Interests and Hobbies Category', 'description': 'A grouping of interests and hobbies entities, like Novelty Food or Destinations'}, 'entity': {'id': '847888632711061504', 'name': 'Personal finance', 'description': 'Personal finance'}}, {'domain': {'id': '67', 'name': 'Interests and Hobbies', 'description': 'Interests, opinions, and behaviors of individuals, groups, or cultures; like Speciality Cooking or Theme Parks'}, 'entity': {'id': '847894794080722944', 'name': 'Retirement planning', 'description': 'Retirement planning'}}, {'domain': {'id': '67', 'name': 'Interests and Hobbies', 'description': 'Interests, opinions, and behaviors of individuals, groups, or cultures; like Speciality Cooking or Theme Parks'}, 'entity': {'id': '1037075567227494400', 'name': 'Saving and finance', 'description': 'Saving and Finance'}}, {'domain': {'id': '123', 'name': 'Ongoing News Story', 'description': \"Ongoing News Stories like 'Brexit'\"}, 'entity': {'id': '1220701888179359745', 'name': 'COVID-19'}}], 'entities': {'urls': [{'start': 113, 'end': 136, 'url': 'https://t.co/RcIMTJEDoX', 'expanded_url': 'https://twitter.com/Nrt_status_bot/status/1344795500751577089/photo/1', 'display_url': 'pic.twitter.com/RcIMTJEDoX'}], 'mentions': [{'start': 27, 'end': 39, 'username': 'NarrativaAI', 'id': '707825922045566976'}]}, 'text': '1060 articles generated by @NarrativaAI 🤖 in the last hour (in 24h):\\n💰 Finance: 996 (4746)\\n🦠 Covid-19: 64 (7310) https://t.co/RcIMTJEDoX', 'lang': 'en', 'public_metrics': {'retweet_count': 0, 'reply_count': 0, 'like_count': 0, 'quote_count': 0}, 'attachments': {'media_keys': ['3_1344795498763481090']}, 'possibly_sensitive': False, 'author_id': '1117152995337228291', 'reply_settings': 'everyone', 'conversation_id': '1344795500751577089'}, {'created_at': '2021-01-01T00:00:07.000Z', 'source': 'Twitter Web App', 'id': '1344795500864684032', 'referenced_tweets': [{'type': 'retweeted', 'id': '1344786864994201601'}], 'text': \"RT @mcs212: @cenkuygur I'll be sure to watch my tone if medical bills bankrupt me, make me suicidal, and I get frustrated by inaction durin…\", 'lang': 'en', 'public_metrics': {'retweet_count': 32, 'reply_count': 0, 'like_count': 0, 'quote_count': 0}, 'entities': {'mentions': [{'start': 3, 'end': 10, 'username': 'mcs212', 'id': '17998231'}, {'start': 12, 'end': 22, 'username': 'cenkuygur', 'id': '429227921'}]}, 'possibly_sensitive': False, 'author_id': '2668684513', 'reply_settings': 'everyone', 'conversation_id': '1344795500864684032'}, {'created_at': '2021-01-01T00:00:07.000Z', 'source': 'Twitter for Android', 'id': '1344795501271552001', 'context_annotations': [{'domain': {'id': '46', 'name': 'Brand Category', 'description': 'Categories within Brand Verticals that narrow down the scope of Brands'}, 'entity': {'id': '781974596752842752', 'name': 'Services'}}, {'domain': {'id': '47', 'name': 'Brand', 'description': 'Brands and Companies'}, 'entity': {'id': '10026507824', 'name': 'FedEx'}}], 'referenced_tweets': [{'type': 'retweeted', 'id': '1344795379880046592'}], 'text': \"RT @theintercept: “I had actually already dropped out from the online school that I was in — right now I'm actually working at FedEx, and,…\", 'lang': 'en', 'public_metrics': {'retweet_count': 7, 'reply_count': 0, 'like_count': 0, 'quote_count': 0}, 'entities': {'annotations': [{'start': 127, 'end': 131, 'probability': 0.6934, 'type': 'Organization', 'normalized_text': 'FedEx'}], 'mentions': [{'start': 3, 'end': 16, 'username': 'theintercept', 'id': '2329066872'}]}, 'possibly_sensitive': False, 'author_id': '985575963277721600', 'reply_settings': 'everyone', 'conversation_id': '1344795501271552001'}, {'created_at': '2021-01-01T00:00:07.000Z', 'source': 'Twitter for iPhone', 'id': '1344795501351362563', 'context_annotations': [{'domain': {'id': '10', 'name': 'Person', 'description': 'Named people in the world like Nelson Mandela'}, 'entity': {'id': '1034536843918729217', 'name': 'Tinashe', 'description': 'Tinashe'}}, {'domain': {'id': '54', 'name': 'Musician', 'description': 'A musician in the world, like Adele or Bob Dylan'}, 'entity': {'id': '1034536843918729217', 'name': 'Tinashe', 'description': 'Tinashe'}}, {'domain': {'id': '55', 'name': 'Music Genre', 'description': 'A category for a musical style, like Pop, Rock, or Rap'}, 'entity': {'id': '849684722695327744', 'name': 'R&B and soul', 'description': 'R&B and soul'}}, {'domain': {'id': '123', 'name': 'Ongoing News Story', 'description': \"Ongoing News Stories like 'Brexit'\"}, 'entity': {'id': '1220701888179359745', 'name': 'COVID-19'}}], 'referenced_tweets': [{'type': 'retweeted', 'id': '1344672877283397635'}], 'text': 'RT @Tinashe: The problem is that people think catching COVID is their business, when in reality it affects us all. I really hope people fin…', 'lang': 'en', 'public_metrics': {'retweet_count': 8770, 'reply_count': 0, 'like_count': 0, 'quote_count': 0}, 'entities': {'mentions': [{'start': 3, 'end': 11, 'username': 'Tinashe', 'id': '16234029'}]}, 'possibly_sensitive': False, 'author_id': '114981700', 'reply_settings': 'everyone', 'conversation_id': '1344795501351362563'}, {'created_at': '2021-01-01T00:00:07.000Z', 'source': 'Twitter for iPhone', 'id': '1344795502970347528', 'context_annotations': [{'domain': {'id': '123', 'name': 'Ongoing News Story', 'description': \"Ongoing News Stories like 'Brexit'\"}, 'entity': {'id': '1220701888179359745', 'name': 'COVID-19'}}], 'entities': {'urls': [{'start': 61, 'end': 84, 'url': 'https://t.co/ieonyjVXpQ', 'expanded_url': 'https://twitter.com/misterrhussainn/status/1344790450557878273/video/1', 'display_url': 'pic.twitter.com/ieonyjVXpQ'}], 'mentions': [{'start': 3, 'end': 19, 'username': 'misterrhussainn', 'id': '1266838802112413697'}]}, 'referenced_tweets': [{'type': 'retweeted', 'id': '1344790450557878273'}], 'text': 'RT @misterrhussainn: CORONA IS GONNA DISAPPEAR IN 20 MINUTES https://t.co/ieonyjVXpQ', 'lang': 'en', 'public_metrics': {'retweet_count': 1, 'reply_count': 0, 'like_count': 0, 'quote_count': 0}, 'attachments': {'media_keys': ['7_1344790435005394948']}, 'possibly_sensitive': False, 'author_id': '1217579740703477761', 'reply_settings': 'everyone', 'conversation_id': '1344795502970347528'}, {'created_at': '2021-01-01T00:00:07.000Z', 'source': 'Twitter for Android', 'id': '1344795502974554114', 'context_annotations': [{'domain': {'id': '10', 'name': 'Person', 'description': 'Named people in the world like Nelson Mandela'}, 'entity': {'id': '799022225751871488', 'name': 'Donald Trump', 'description': 'US President Donald Trump'}}, {'domain': {'id': '10', 'name': 'Person', 'description': 'Named people in the world like Nelson Mandela'}, 'entity': {'id': '1138906221014949888', 'name': 'George Conway', 'description': 'George Conway'}}, {'domain': {'id': '35', 'name': 'Politician', 'description': 'Politicians in the world, like Joe Biden'}, 'entity': {'id': '799022225751871488', 'name': 'Donald Trump', 'description': 'US President Donald Trump'}}, {'domain': {'id': '35', 'name': 'Politician', 'description': 'Politicians in the world, like Joe Biden'}, 'entity': {'id': '1138906221014949888', 'name': 'George Conway', 'description': 'George Conway'}}, {'domain': {'id': '123', 'name': 'Ongoing News Story', 'description': \"Ongoing News Stories like 'Brexit'\"}, 'entity': {'id': '1220701888179359745', 'name': 'COVID-19'}}], 'referenced_tweets': [{'type': 'retweeted', 'id': '1344784728570920960'}], 'text': 'RT @gtconway3d: If any doubt were possible that @realDonaldTrump’s personality disorders—his narcissistic psychopathy—cost countless Americ…', 'lang': 'en', 'public_metrics': {'retweet_count': 1793, 'reply_count': 0, 'like_count': 0, 'quote_count': 0}, 'entities': {'mentions': [{'start': 3, 'end': 14, 'username': 'gtconway3d', 'id': '471677441'}, {'start': 48, 'end': 64, 'username': 'realDonaldTrump', 'id': '25073877'}]}, 'possibly_sensitive': False, 'author_id': '396090702', 'reply_settings': 'everyone', 'conversation_id': '1344795502974554114'}, {'created_at': '2021-01-01T00:00:07.000Z', 'source': 'Twitter Web App', 'id': '1344795502991257603', 'referenced_tweets': [{'type': 'retweeted', 'id': '1343602380592599040'}], 'text': 'RT @drphiliplee1: Things are bad.\\n\\nPlease stay at home if you can.\\n\\nPlease.', 'lang': 'en', 'public_metrics': {'retweet_count': 7574, 'reply_count': 0, 'like_count': 0, 'quote_count': 0}, 'entities': {'mentions': [{'start': 3, 'end': 16, 'username': 'drphiliplee1', 'id': '2524538106'}]}, 'possibly_sensitive': False, 'author_id': '1284356571435278337', 'reply_settings': 'everyone', 'conversation_id': '1344795502991257603'}, {'created_at': '2021-01-01T00:00:07.000Z', 'source': 'Twitter for iPhone', 'id': '1344795503041466368', 'context_annotations': [{'domain': {'id': '123', 'name': 'Ongoing News Story', 'description': \"Ongoing News Stories like 'Brexit'\"}, 'entity': {'id': '1220701888179359745', 'name': 'COVID-19'}}], 'entities': {'urls': [{'start': 127, 'end': 150, 'url': 'https://t.co/jp3aDEzrtV', 'expanded_url': 'https://twitter.com/ASlavitt/status/1344784706244542469', 'display_url': 'twitter.com/ASlavitt/statu…'}], 'mentions': [{'start': 14, 'end': 23, 'username': 'ASlavitt', 'id': '1383272101'}]}, 'referenced_tweets': [{'type': 'quoted', 'id': '1344784706244542469'}], 'text': 'I really love @ASlavitt and this 2020 wrap-up demonstrates why. It’s long, and hard, but it ends well. Happy Last Day of 2020. https://t.co/jp3aDEzrtV', 'lang': 'en', 'public_metrics': {'retweet_count': 0, 'reply_count': 0, 'like_count': 1, 'quote_count': 0}, 'possibly_sensitive': False, 'author_id': '825798455087886336', 'reply_settings': 'everyone', 'conversation_id': '1344795503041466368'}, {'created_at': '2021-01-01T00:00:07.000Z', 'source': 'Twitter for iPhone', 'id': '1344795503083417601', 'context_annotations': [{'domain': {'id': '123', 'name': 'Ongoing News Story', 'description': \"Ongoing News Stories like 'Brexit'\"}, 'entity': {'id': '1220701888179359745', 'name': 'COVID-19'}}, {'domain': {'id': '45', 'name': 'Brand Vertical', 'description': 'Top level entities that describe a Brands industry'}, 'entity': {'id': '781974596706635776', 'name': 'Retail'}}, {'domain': {'id': '46', 'name': 'Brand Category', 'description': 'Categories within Brand Verticals that narrow down the scope of Brands'}, 'entity': {'id': '781974597570732032', 'name': 'Multi-Purpose Department'}}, {'domain': {'id': '47', 'name': 'Brand', 'description': 'Brands and Companies'}, 'entity': {'id': '10026347212', 'name': 'Walmart'}}], 'referenced_tweets': [{'type': 'retweeted', 'id': '1344568808053174272'}], 'text': \"RT @acnewsitics: These fools are marching in Walmart refusing to wear a damn mask! I have seen it all. It's a damn cult. https://t.co/0YHsQ…\", 'lang': 'en', 'public_metrics': {'retweet_count': 1240, 'reply_count': 0, 'like_count': 0, 'quote_count': 0}, 'entities': {'annotations': [{'start': 45, 'end': 51, 'probability': 0.6584, 'type': 'Organization', 'normalized_text': 'Walmart'}], 'mentions': [{'start': 3, 'end': 15, 'username': 'acnewsitics', 'id': '1080188052365029376'}]}, 'possibly_sensitive': False, 'author_id': '921506742', 'reply_settings': 'everyone', 'conversation_id': '1344795503083417601'}, {'created_at': '2021-01-01T00:00:07.000Z', 'source': 'Revive Social App', 'id': '1344795503205224450', 'context_annotations': [{'domain': {'id': '123', 'name': 'Ongoing News Story', 'description': \"Ongoing News Stories like 'Brexit'\"}, 'entity': {'id': '1220701888179359745', 'name': 'COVID-19'}}], 'entities': {'urls': [{'start': 86, 'end': 109, 'url': 'https://t.co/XEEPbSBQ44', 'expanded_url': 'https://politicsnewspro.com/2020/03/25/best-practice-per-la-gestione-dei-telelavoratori-durante-il-coronavirus/?utm_source=ReviveOldPost&utm_medium=social&utm_campaign=ReviveOldPost', 'display_url': 'politicsnewspro.com/2020/03/25/bes…', 'unwound_url': 'https://politicsnewspro.com/2020/03/25/best-practice-per-la-gestione-dei-telelavoratori-durante-il-coronavirus/?utm_source=ReviveOldPost&utm_medium=social&utm_campaign=ReviveOldPost'}]}, 'text': 'Best practice per la gestione dei telelavoratori durante il coronavirus  \\n\\n        Le https://t.co/XEEPbSBQ44', 'lang': 'it', 'public_metrics': {'retweet_count': 0, 'reply_count': 0, 'like_count': 0, 'quote_count': 0}, 'possibly_sensitive': True, 'author_id': '954532837', 'reply_settings': 'everyone', 'conversation_id': '1344795503205224450'}, {'created_at': '2021-01-01T00:00:07.000Z', 'source': 'Twitter for iPhone', 'id': '1344795503368622080', 'context_annotations': [{'domain': {'id': '47', 'name': 'Brand', 'description': 'Brands and Companies'}, 'entity': {'id': '1066082280899141633', 'name': 'Los Angeles Times', 'description': 'Los Angeles Times'}}, {'domain': {'id': '65', 'name': 'Interests and Hobbies Vertical', 'description': 'Top level interests and hobbies groupings, like Food or Travel'}, 'entity': {'id': '903303816698671104', 'name': 'Wellness and health', 'description': 'Wellness & Health'}}, {'domain': {'id': '66', 'name': 'Interests and Hobbies Category', 'description': 'A grouping of interests and hobbies entities, like Novelty Food or Destinations'}, 'entity': {'id': '918538847302041600', 'name': 'Community Health', 'description': 'Community Health'}}, {'domain': {'id': '67', 'name': 'Interests and Hobbies', 'description': 'Interests, opinions, and behaviors of individuals, groups, or cultures; like Speciality Cooking or Theme Parks'}, 'entity': {'id': '920768310152593408', 'name': 'Common Medication', 'description': 'Common Medication'}}, {'domain': {'id': '123', 'name': 'Ongoing News Story', 'description': \"Ongoing News Stories like 'Brexit'\"}, 'entity': {'id': '1220701888179359745', 'name': 'COVID-19'}}], 'referenced_tweets': [{'type': 'retweeted', 'id': '1344648353397702657'}], 'text': 'RT @latimes: Roughly 20% to 40% of the L.A. County’s front-line workers who were offered the vaccine declined to get the shot.\\n\\nSo many in…', 'lang': 'en', 'public_metrics': {'retweet_count': 2800, 'reply_count': 0, 'like_count': 0, 'quote_count': 0}, 'entities': {'annotations': [{'start': 39, 'end': 49, 'probability': 0.6627, 'type': 'Place', 'normalized_text': 'L.A. County'}], 'mentions': [{'start': 3, 'end': 11, 'username': 'latimes', 'id': '16664681'}]}, 'possibly_sensitive': False, 'author_id': '1166046045480075265', 'reply_settings': 'everyone', 'conversation_id': '1344795503368622080'}, {'created_at': '2021-01-01T00:00:07.000Z', 'source': 'Twitter for iPhone', 'id': '1344795503624658944', 'context_annotations': [{'domain': {'id': '119', 'name': 'Holiday', 'description': 'Holidays like Christmas or Halloween'}, 'entity': {'id': '1286645331686350848', 'name': 'Dia de la Independencia (Grito de Dolores) ', 'description': 'This entity includes conversations about Dia de la Independencia (Grito de Dolores) for all years.'}}, {'domain': {'id': '123', 'name': 'Ongoing News Story', 'description': \"Ongoing News Stories like 'Brexit'\"}, 'entity': {'id': '1220701888179359745', 'name': 'COVID-19'}}], 'referenced_tweets': [{'type': 'retweeted', 'id': '1344713051707219968'}], 'text': 'RT @RiosCorona222: Lo más desafiante de este 2020 no fue el COVID sino tener a Mugrena y a López destruyendo México y saqueando todo a su p…', 'lang': 'es', 'public_metrics': {'retweet_count': 429, 'reply_count': 0, 'like_count': 0, 'quote_count': 0}, 'entities': {'annotations': [{'start': 79, 'end': 85, 'probability': 0.846, 'type': 'Person', 'normalized_text': 'Mugrena'}, {'start': 91, 'end': 95, 'probability': 0.9598, 'type': 'Person', 'normalized_text': 'López'}, {'start': 109, 'end': 114, 'probability': 0.9371, 'type': 'Place', 'normalized_text': 'México'}], 'mentions': [{'start': 3, 'end': 17, 'username': 'RiosCorona222', 'id': '840641401738027008'}]}, 'possibly_sensitive': False, 'author_id': '457220811', 'reply_settings': 'everyone', 'conversation_id': '1344795503624658944'}, {'created_at': '2021-01-01T00:00:07.000Z', 'source': 'ronarebound', 'id': '1344795503637180416', 'context_annotations': [{'domain': {'id': '66', 'name': 'Interests and Hobbies Category', 'description': 'A grouping of interests and hobbies entities, like Novelty Food or Destinations'}, 'entity': {'id': '847888632711061504', 'name': 'Personal finance', 'description': 'Personal finance'}}, {'domain': {'id': '67', 'name': 'Interests and Hobbies', 'description': 'Interests, opinions, and behaviors of individuals, groups, or cultures; like Speciality Cooking or Theme Parks'}, 'entity': {'id': '847894353708068864', 'name': 'Investing', 'description': 'Investing'}}, {'domain': {'id': '67', 'name': 'Interests and Hobbies', 'description': 'Interests, opinions, and behaviors of individuals, groups, or cultures; like Speciality Cooking or Theme Parks'}, 'entity': {'id': '847894852779900928', 'name': 'Stocks & indices', 'description': 'Stocks'}}], 'entities': {'urls': [{'start': 215, 'end': 238, 'url': 'https://t.co/2pV8Epn69z', 'expanded_url': 'https://rona-rebound.com', 'display_url': 'rona-rebound.com', 'images': [{'url': 'https://pbs.twimg.com/news_img/1462639485410320385/joqiII3m?format=png&name=orig', 'width': 512, 'height': 256}, {'url': 'https://pbs.twimg.com/news_img/1462639485410320385/joqiII3m?format=png&name=150x150', 'width': 150, 'height': 150}], 'status': 200, 'title': 'Rona Rebound', 'description': 'What will your investment today grow to if stocks rebound to pre-pandemic prices?', 'unwound_url': 'https://rona-rebound.com'}], 'cashtags': [{'start': 23, 'end': 29, 'tag': 'OFG.D'}, {'start': 241, 'end': 245, 'tag': 'TLI'}, {'start': 246, 'end': 250, 'tag': 'MFT'}, {'start': 251, 'end': 256, 'tag': 'IMGN'}, {'start': 257, 'end': 261, 'tag': 'HPF'}, {'start': 262, 'end': 267, 'tag': 'APEI'}]}, 'text': \"If you invest $1000 in $OFG.D today at $26.03 per share, and the stock prices rebound back to pre-pandemic prices at $26.60, your investment would be worth $1021.84! That's 2% growth and $21.84 profit!\\n \\n See more: https://t.co/2pV8Epn69z\\n  $TLI $MFT $IMGN $HPF $APEI\", 'lang': 'en', 'public_metrics': {'retweet_count': 0, 'reply_count': 0, 'like_count': 1, 'quote_count': 0}, 'possibly_sensitive': False, 'author_id': '1257555966322782208', 'reply_settings': 'everyone', 'conversation_id': '1344795503637180416'}, {'created_at': '2021-01-01T00:00:07.000Z', 'source': 'Twitter for Android', 'id': '1344795503716925440', 'referenced_tweets': [{'type': 'retweeted', 'id': '1344648082097655810'}], 'text': 'RT @GFiuza_Oficial: União Europeia fecha amplo acordo estratégico com a ditadura chinesa (prejudicial à democracia norte-americana). Quem a…', 'lang': 'pt', 'public_metrics': {'retweet_count': 5614, 'reply_count': 0, 'like_count': 0, 'quote_count': 0}, 'entities': {'mentions': [{'start': 3, 'end': 18, 'username': 'GFiuza_Oficial', 'id': '2804949532'}]}, 'possibly_sensitive': False, 'author_id': '1253762212692361216', 'reply_settings': 'everyone', 'conversation_id': '1344795503716925440'}, {'created_at': '2021-01-01T00:00:07.000Z', 'source': 'Twitter Web App', 'id': '1344795503947522048', 'context_annotations': [{'domain': {'id': '123', 'name': 'Ongoing News Story', 'description': \"Ongoing News Stories like 'Brexit'\"}, 'entity': {'id': '1220701888179359745', 'name': 'COVID-19'}}], 'entities': {'urls': [{'start': 15, 'end': 38, 'url': 'https://t.co/ultAqvArsC', 'expanded_url': 'https://twitter.com/euronews/status/1344792745920102400', 'display_url': 'twitter.com/euronews/statu…'}]}, 'referenced_tweets': [{'type': 'quoted', 'id': '1344792745920102400'}], 'text': 'Nearly time... https://t.co/ultAqvArsC', 'lang': 'en', 'public_metrics': {'retweet_count': 0, 'reply_count': 3, 'like_count': 5, 'quote_count': 0}, 'possibly_sensitive': False, 'author_id': '19570007', 'reply_settings': 'everyone', 'conversation_id': '1344795503947522048'}, {'created_at': '2021-01-01T00:00:07.000Z', 'entities': {'hashtags': [{'start': 34, 'end': 51, 'tag': 'HappyNewYear2021'}, {'start': 52, 'end': 63, 'tag': 'StayAtHome'}, {'start': 64, 'end': 73, 'tag': 'StaySafe'}], 'urls': [{'start': 101, 'end': 124, 'url': 'https://t.co/GoGX9H0L17', 'expanded_url': 'https://twitter.com/BestDrWho/status/1344795503993757697/photo/1', 'display_url': 'pic.twitter.com/GoGX9H0L17'}]}, 'source': 'Twitter for iPhone', 'id': '1344795503993757697', 'context_annotations': [{'domain': {'id': '119', 'name': 'Holiday', 'description': 'Holidays like Christmas or Halloween'}, 'entity': {'id': '1319305164751163393', 'name': 'New Years Eve', 'description': 'This entity includes all conversations for New Years Eve for all years.'}}, {'domain': {'id': '119', 'name': 'Holiday', 'description': 'Holidays like Christmas or Halloween'}, 'entity': {'id': '1338455498958368768', 'name': 'Happy New Year'}}, {'domain': {'id': '123', 'name': 'Ongoing News Story', 'description': \"Ongoing News Stories like 'Brexit'\"}, 'entity': {'id': '1220701888179359745', 'name': 'COVID-19'}}, {'domain': {'id': '119', 'name': 'Holiday', 'description': 'Holidays like Christmas or Halloween'}, 'entity': {'id': '1338455498958368768', 'name': 'Happy New Year'}}], 'text': 'ℍ𝕒𝕡𝕡𝕚𝕖𝕤𝕥 𝕠𝕗 ℕ𝕖𝕨 𝕐𝕖𝕒𝕣𝕤 𝕥𝕠 𝕐𝕠𝕦 𝔸𝕝𝕝 \\n#HappyNewYear2021 #StayAtHome #StaySafe  \\ncheers 🥂 𝕌.𝕂. 𝕚𝕤 𝕚𝕟 𝟚𝟘𝟚𝟙 https://t.co/GoGX9H0L17', 'lang': 'en', 'public_metrics': {'retweet_count': 0, 'reply_count': 1, 'like_count': 5, 'quote_count': 0}, 'attachments': {'media_keys': ['3_1344795499275186179']}, 'possibly_sensitive': False, 'author_id': '231903549', 'reply_settings': 'everyone', 'conversation_id': '1344795503993757697'}, {'created_at': '2021-01-01T00:00:07.000Z', 'source': 'Twitter for Android', 'id': '1344795504140558337', 'context_annotations': [{'domain': {'id': '119', 'name': 'Holiday', 'description': 'Holidays like Christmas or Halloween'}, 'entity': {'id': '1319305164751163393', 'name': 'New Years Eve', 'description': 'This entity includes all conversations for New Years Eve for all years.'}}, {'domain': {'id': '123', 'name': 'Ongoing News Story', 'description': \"Ongoing News Stories like 'Brexit'\"}, 'entity': {'id': '1220701888179359745', 'name': 'COVID-19'}}, {'domain': {'id': '130', 'name': 'Multimedia Franchise', 'description': \"Franchises which span multiple forms of media like 'Harry Potter'\"}, 'entity': {'id': '1002576732971384832', 'name': 'Marvel Universe', 'description': 'This entity includes all conversation about the franchise, as well as any individual installments in the series, if applicable.\\t\\t\\t'}}], 'referenced_tweets': [{'type': 'retweeted', 'id': '1344095895332122625'}], 'text': 'RT @kanekosbaby: This started the pandemic', 'lang': 'en', 'public_metrics': {'retweet_count': 5656, 'reply_count': 0, 'like_count': 0, 'quote_count': 0}, 'possibly_sensitive': False, 'author_id': '35912056', 'reply_settings': 'everyone', 'conversation_id': '1344795504140558337'}, {'created_at': '2021-01-01T00:00:07.000Z', 'source': 'Twitter Web App', 'id': '1344795504211877890', 'in_reply_to_user_id': '1343969694982803461', 'context_annotations': [{'domain': {'id': '10', 'name': 'Person', 'description': 'Named people in the world like Nelson Mandela'}, 'entity': {'id': '799022225751871488', 'name': 'Donald Trump', 'description': 'US President Donald Trump'}}, {'domain': {'id': '35', 'name': 'Politician', 'description': 'Politicians in the world, like Joe Biden'}, 'entity': {'id': '799022225751871488', 'name': 'Donald Trump', 'description': 'US President Donald Trump'}}, {'domain': {'id': '10', 'name': 'Person', 'description': 'Named people in the world like Nelson Mandela'}, 'entity': {'id': '10040395078', 'name': 'Joe Biden', 'description': 'US President Joe Biden'}}, {'domain': {'id': '35', 'name': 'Politician', 'description': 'Politicians in the world, like Joe Biden'}, 'entity': {'id': '10040395078', 'name': 'Joe Biden', 'description': 'US President Joe Biden'}}], 'entities': {'urls': [{'start': 24, 'end': 47, 'url': 'https://t.co/DYcPtfqIZ6', 'expanded_url': 'https://twitter.com/bellausa17/status/1344701884272152579?s=20', 'display_url': 'twitter.com/bellausa17/sta…'}], 'mentions': [{'start': 14, 'end': 23, 'username': 'JoeBiden', 'id': '939091'}]}, 'referenced_tweets': [{'type': 'quoted', 'id': '1344701884272152579'}, {'type': 'replied_to', 'id': '1344780602818449409'}], 'text': '@Mona49913877 @JoeBiden https://t.co/DYcPtfqIZ6', 'lang': 'und', 'public_metrics': {'retweet_count': 0, 'reply_count': 0, 'like_count': 0, 'quote_count': 0}, 'possibly_sensitive': False, 'author_id': '898946995', 'reply_settings': 'everyone', 'conversation_id': '1344775842455498752'}, {'created_at': '2021-01-01T00:00:07.000Z', 'source': 'Twitter for iPhone', 'id': '1344795504245420032', 'entities': {'urls': [{'start': 15, 'end': 38, 'url': 'https://t.co/IzKcJilyLC', 'expanded_url': 'https://twitter.com/petitcon_/status/1344722195327692801/video/1', 'display_url': 'pic.twitter.com/IzKcJilyLC'}], 'mentions': [{'start': 3, 'end': 13, 'username': 'petitcon_', 'id': '902227072365600768'}]}, 'referenced_tweets': [{'type': 'retweeted', 'id': '1344722195327692801'}], 'text': 'RT @petitcon_: https://t.co/IzKcJilyLC', 'lang': 'und', 'public_metrics': {'retweet_count': 5188, 'reply_count': 0, 'like_count': 0, 'quote_count': 0}, 'possibly_sensitive': False, 'author_id': '1359037148', 'reply_settings': 'everyone', 'conversation_id': '1344795504245420032'}, {'created_at': '2021-01-01T00:00:07.000Z', 'source': 'Twitter for iPhone', 'id': '1344795504316723200', 'context_annotations': [{'domain': {'id': '123', 'name': 'Ongoing News Story', 'description': \"Ongoing News Stories like 'Brexit'\"}, 'entity': {'id': '1220701888179359745', 'name': 'COVID-19'}}], 'entities': {'urls': [{'start': 46, 'end': 69, 'url': 'https://t.co/CQLS9CETIO', 'expanded_url': 'https://twitter.com/sfctoby/status/1344795192763801600/photo/1', 'display_url': 'pic.twitter.com/CQLS9CETIO'}], 'mentions': [{'start': 3, 'end': 11, 'username': 'sfctoby', 'id': '998161109864632320'}]}, 'referenced_tweets': [{'type': 'retweeted', 'id': '1344795192763801600'}], 'text': 'RT @sfctoby: Corona when the clock strikes 12 https://t.co/CQLS9CETIO', 'lang': 'en', 'public_metrics': {'retweet_count': 2, 'reply_count': 0, 'like_count': 0, 'quote_count': 0}, 'attachments': {'media_keys': ['16_1344795185486721024']}, 'possibly_sensitive': False, 'author_id': '983728066949238785', 'reply_settings': 'everyone', 'conversation_id': '1344795504316723200'}, {'created_at': '2021-01-01T00:00:07.000Z', 'source': 'Twitter Web App', 'id': '1344795504346075136', 'context_annotations': [{'domain': {'id': '119', 'name': 'Holiday', 'description': 'Holidays like Christmas or Halloween'}, 'entity': {'id': '1319305164751163393', 'name': 'New Years Eve', 'description': 'This entity includes all conversations for New Years Eve for all years.'}}, {'domain': {'id': '119', 'name': 'Holiday', 'description': 'Holidays like Christmas or Halloween'}, 'entity': {'id': '1338455498958368768', 'name': 'Happy New Year'}}, {'domain': {'id': '123', 'name': 'Ongoing News Story', 'description': \"Ongoing News Stories like 'Brexit'\"}, 'entity': {'id': '1220701888179359745', 'name': 'COVID-19'}}, {'domain': {'id': '119', 'name': 'Holiday', 'description': 'Holidays like Christmas or Halloween'}, 'entity': {'id': '1338455498958368768', 'name': 'Happy New Year'}}], 'text': 'Happy New Year Everyone!\\n\\nHave a wonderful 2021, I hope this year is a lot better than 2020! \\nMake some amazing memories and stay safe during the pandemic 👍', 'lang': 'en', 'public_metrics': {'retweet_count': 0, 'reply_count': 0, 'like_count': 2, 'quote_count': 0}, 'possibly_sensitive': False, 'author_id': '857643368410730496', 'reply_settings': 'everyone', 'conversation_id': '1344795504346075136'}, {'created_at': '2021-01-01T00:00:07.000Z', 'source': 'Twitter for iPad', 'id': '1344795504350138368', 'context_annotations': [{'domain': {'id': '123', 'name': 'Ongoing News Story', 'description': \"Ongoing News Stories like 'Brexit'\"}, 'entity': {'id': '1220701888179359745', 'name': 'COVID-19'}}], 'entities': {'urls': [{'start': 58, 'end': 81, 'url': 'https://t.co/ncwH7vvusj', 'expanded_url': 'https://twitter.com/umbral_aeronaut/status/1344795504350138368/photo/1', 'display_url': 'pic.twitter.com/ncwH7vvusj'}]}, 'text': 'Shoutout to a real one.  Wear the mask in power, MF Doom. https://t.co/ncwH7vvusj', 'lang': 'en', 'public_metrics': {'retweet_count': 0, 'reply_count': 0, 'like_count': 5, 'quote_count': 0}, 'attachments': {'media_keys': ['3_1344795496854945793']}, 'possibly_sensitive': False, 'author_id': '980084537429381120', 'reply_settings': 'everyone', 'conversation_id': '1344795504350138368'}, {'created_at': '2021-01-01T00:00:08.000Z', 'source': 'Twitter for Android', 'id': '1344795504434024448', 'context_annotations': [{'domain': {'id': '123', 'name': 'Ongoing News Story', 'description': \"Ongoing News Stories like 'Brexit'\"}, 'entity': {'id': '1220701888179359745', 'name': 'COVID-19'}}], 'referenced_tweets': [{'type': 'retweeted', 'id': '1344711744745328641'}], 'text': \"RT @sunlorrie: I'm always amazed by how confidently she says the wrong things, consistently, throughout the pandemic.\", 'lang': 'en', 'public_metrics': {'retweet_count': 416, 'reply_count': 0, 'like_count': 0, 'quote_count': 0}, 'entities': {'mentions': [{'start': 3, 'end': 13, 'username': 'sunlorrie', 'id': '255340030'}]}, 'possibly_sensitive': False, 'author_id': '1300730450147553280', 'reply_settings': 'everyone', 'conversation_id': '1344795504434024448'}, {'created_at': '2021-01-01T00:00:08.000Z', 'source': 'Twitter for iPhone', 'id': '1344795504450756609', 'in_reply_to_user_id': '23411551', 'context_annotations': [{'domain': {'id': '30', 'name': 'Entities [Entity Service]', 'description': 'Entity Service top level domain, every item that is in Entity Service should be in this domain'}, 'entity': {'id': '847868745150119936', 'name': 'Home & family', 'description': 'Hobbies and interests'}}, {'domain': {'id': '66', 'name': 'Interests and Hobbies Category', 'description': 'A grouping of interests and hobbies entities, like Novelty Food or Destinations'}, 'entity': {'id': '1068226612380889088', 'name': 'Horoscope', 'description': 'Horoscope'}}, {'domain': {'id': '30', 'name': 'Entities [Entity Service]', 'description': 'Entity Service top level domain, every item that is in Entity Service should be in this domain'}, 'entity': {'id': '1102600979491381248', 'name': 'Astrology', 'description': 'Astrology'}}, {'domain': {'id': '123', 'name': 'Ongoing News Story', 'description': \"Ongoing News Stories like 'Brexit'\"}, 'entity': {'id': '1220701888179359745', 'name': 'COVID-19'}}], 'referenced_tweets': [{'type': 'replied_to', 'id': '1344788386016415744'}], 'text': '@Rumpleswagskn @funkepopz But seriously, you can’t talk shit about Covid deniers if you believe in astrology and fuckin healing crystals', 'lang': 'en', 'public_metrics': {'retweet_count': 0, 'reply_count': 1, 'like_count': 1, 'quote_count': 0}, 'entities': {'annotations': [{'start': 67, 'end': 71, 'probability': 0.5736, 'type': 'Person', 'normalized_text': 'Covid'}], 'mentions': [{'start': 0, 'end': 14, 'username': 'Rumpleswagskn', 'id': '23411551'}, {'start': 15, 'end': 25, 'username': 'funkepopz', 'id': '1116174423294275586'}]}, 'possibly_sensitive': False, 'author_id': '2710908529', 'reply_settings': 'everyone', 'conversation_id': '1344708436689240065'}, {'created_at': '2021-01-01T00:00:08.000Z', 'source': 'Twitter for iPhone', 'id': '1344795504786325504', 'context_annotations': [{'domain': {'id': '123', 'name': 'Ongoing News Story', 'description': \"Ongoing News Stories like 'Brexit'\"}, 'entity': {'id': '1220701888179359745', 'name': 'COVID-19'}}], 'text': 'I am curious about following. When and which state will be the first to lift all restrictions. First one-week period with no new COVID-19 cases in the county, state, and country (doubtful for 2021). When are 100,000,000 people vaccinated (2 shots)?', 'lang': 'en', 'public_metrics': {'retweet_count': 0, 'reply_count': 0, 'like_count': 0, 'quote_count': 0}, 'possibly_sensitive': False, 'author_id': '14567830', 'reply_settings': 'everyone', 'conversation_id': '1344795504786325504'}, {'created_at': '2021-01-01T00:00:08.000Z', 'source': 'Twitter for Android', 'id': '1344795504786325505', 'context_annotations': [{'domain': {'id': '123', 'name': 'Ongoing News Story', 'description': \"Ongoing News Stories like 'Brexit'\"}, 'entity': {'id': '1220701888179359745', 'name': 'COVID-19'}}], 'referenced_tweets': [{'type': 'retweeted', 'id': '1344786216953270273'}], 'text': 'RT @RamirezClaudia_: Esto es lo que tenemos ...', 'lang': 'es', 'public_metrics': {'retweet_count': 141, 'reply_count': 0, 'like_count': 0, 'quote_count': 0}, 'entities': {'mentions': [{'start': 3, 'end': 19, 'username': 'RamirezClaudia_', 'id': '110899094'}]}, 'possibly_sensitive': False, 'author_id': '1052704960670912512', 'reply_settings': 'everyone', 'conversation_id': '1344795504786325505'}]\n"
     ]
    }
   ],
   "source": [
    "from twarc.client2 import Twarc2\n",
    "from twarc.expansions import ensure_flattened\n",
    "import pandas as pd\n",
    "\n",
    "filename = 'dry_tweets.csv'\n",
    "\n",
    "dry_tweets = pd.read_csv(filename)\n",
    "\n",
    "\n",
    "tweet_ids = dry_tweets[\"Tweet_ID\"]\n",
    "\n",
    "t = Twarc2(bearer_token=\"AAAAAAAAAAAAAAAAAAAAAJ%2BtUQEAAAAAg1CIimSzNXSPrCHUHjx%2FvXKwvIA%3DBnPdmbiDPqhE0cw4uWFZDyMuxbOdcamQB7L9ATAMaWiou4XCO2\")\n",
    "\n",
    "\n",
    "result = t.tweet_lookup(tweet_ids)\n",
    "\n",
    "for tweet in result:\n",
    "    print(tweet[\"data\"])"
   ]
  },
  {
   "cell_type": "code",
   "execution_count": 122,
   "id": "b0aecee7",
   "metadata": {},
   "outputs": [
    {
     "data": {
      "text/plain": [
       "[{'data': {'id': '1', 'text': 'Hello World'}},\n",
       " {'data': {'id': '1', 'text': 'Hello World'}},\n",
       " {'data': {'id': '1', 'text': 'Hello World'}}]"
      ]
     },
     "execution_count": 122,
     "metadata": {},
     "output_type": "execute_result"
    }
   ],
   "source": [
    "tweets = [\n",
    "    { \n",
    "        \"data\": \n",
    "        {\n",
    "            'id': \"1\",\n",
    "            \"text\": \"Hello World\"\n",
    "        } \n",
    "    },\n",
    "    { \n",
    "        \"data\": \n",
    "        {\n",
    "            'id': \"1\",\n",
    "            \"text\": \"Hello World\"\n",
    "        } \n",
    "    },\n",
    "        { \n",
    "        \"data\": \n",
    "        {\n",
    "            'id': \"1\",\n",
    "            \"text\": \"Hello World\"\n",
    "        } \n",
    "    },\n",
    "\n",
    "]\n",
    "\n",
    "tweets"
   ]
  },
  {
   "cell_type": "code",
   "execution_count": 120,
   "id": "c0cd608f",
   "metadata": {},
   "outputs": [],
   "source": [
    "import psycopg2\n",
    "\n",
    "conn = None\n",
    "\n",
    "dbname = user = password = \"senti_tweet\"\n",
    "\n",
    "try:\n",
    "    conn = psycopg2.connect(\n",
    "        dbname=dbname,\n",
    "        user=user,\n",
    "        password=password,\n",
    "        host=\"localhost\",\n",
    "        port=\"5432\"\n",
    "    )\n",
    "except IOError:\n",
    "    print(\"Unable to connect to db={0}:user={1}:password={2}:error{3}\".format(dbname, user, password, error))\n",
    "    \n"
   ]
  }
 ],
 "metadata": {
  "kernelspec": {
   "display_name": "Python 3 (ipykernel)",
   "language": "python",
   "name": "python3"
  },
  "language_info": {
   "codemirror_mode": {
    "name": "ipython",
    "version": 3
   },
   "file_extension": ".py",
   "mimetype": "text/x-python",
   "name": "python",
   "nbconvert_exporter": "python",
   "pygments_lexer": "ipython3",
   "version": "3.9.7"
  }
 },
 "nbformat": 4,
 "nbformat_minor": 5
}
